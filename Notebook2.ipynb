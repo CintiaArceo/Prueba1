{
 "cells": [
  {
   "cell_type": "code",
   "execution_count": 3,
   "id": "622d9857-abd0-4d87-a5b3-084b2e74e587",
   "metadata": {},
   "outputs": [],
   "source": [
    "import numpy as np\n",
    "import matplotlib.pyplot as plt"
   ]
  },
  {
   "cell_type": "code",
   "execution_count": 4,
   "id": "5e379ec5-5939-43a4-9eac-4ccd80719175",
   "metadata": {},
   "outputs": [],
   "source": [
    "masa = 47.5\n",
    "edad = 122\n",
    "masa = masa * 2\n",
    "edad = edad - 20"
   ]
  },
  {
   "cell_type": "code",
   "execution_count": 10,
   "id": "426df712-49c4-465a-a7a4-d61e7f25276c",
   "metadata": {},
   "outputs": [
    {
     "name": "stdout",
     "output_type": "stream",
     "text": [
      "95.0 102 Cintia\n"
     ]
    }
   ],
   "source": [
    "print(masa, edad, name)"
   ]
  },
  {
   "cell_type": "code",
   "execution_count": 6,
   "id": "32173ea0-2039-430f-82eb-3b248dff20a6",
   "metadata": {},
   "outputs": [
    {
     "data": {
      "text/plain": [
       "float"
      ]
     },
     "execution_count": 6,
     "metadata": {},
     "output_type": "execute_result"
    }
   ],
   "source": [
    "type(masa)"
   ]
  },
  {
   "cell_type": "code",
   "execution_count": 7,
   "id": "fe1af651-e6a5-48c0-8031-c5dccadde218",
   "metadata": {},
   "outputs": [
    {
     "data": {
      "text/plain": [
       "int"
      ]
     },
     "execution_count": 7,
     "metadata": {},
     "output_type": "execute_result"
    }
   ],
   "source": [
    "type(edad)"
   ]
  },
  {
   "cell_type": "code",
   "execution_count": 15,
   "id": "5c7b4ad6-0f85-4b75-9136-35866f585b8b",
   "metadata": {},
   "outputs": [],
   "source": [
    "name = \"Cintia\""
   ]
  },
  {
   "cell_type": "code",
   "execution_count": 9,
   "id": "a821c8fa-218e-46fd-8c2d-590f90222402",
   "metadata": {},
   "outputs": [
    {
     "data": {
      "text/plain": [
       "str"
      ]
     },
     "execution_count": 9,
     "metadata": {},
     "output_type": "execute_result"
    }
   ],
   "source": [
    "type(name)"
   ]
  },
  {
   "cell_type": "code",
   "execution_count": 13,
   "id": "ac306ac5-1717-4bd1-a6ed-a208325307c1",
   "metadata": {},
   "outputs": [],
   "source": [
    "a = np.random.normal(size=(15, 2, 1))"
   ]
  },
  {
   "cell_type": "code",
   "execution_count": 14,
   "id": "dceda87d-13d3-43e6-9753-eee9f9d5b054",
   "metadata": {},
   "outputs": [
    {
     "name": "stdout",
     "output_type": "stream",
     "text": [
      "[[[-0.15684776]\n",
      "  [-0.53480198]]\n",
      "\n",
      " [[ 0.98072752]\n",
      "  [ 0.19645069]]\n",
      "\n",
      " [[ 0.86914863]\n",
      "  [ 1.37618431]]\n",
      "\n",
      " [[-0.02070819]\n",
      "  [-0.36917872]]\n",
      "\n",
      " [[ 2.62150295]\n",
      "  [ 0.11317071]]\n",
      "\n",
      " [[ 0.34222273]\n",
      "  [ 0.38227243]]\n",
      "\n",
      " [[-0.13198205]\n",
      "  [ 0.49167706]]\n",
      "\n",
      " [[ 0.81453337]\n",
      "  [ 0.79737222]]\n",
      "\n",
      " [[-0.98401574]\n",
      "  [ 1.22599611]]\n",
      "\n",
      " [[ 0.54824195]\n",
      "  [ 0.15306878]]\n",
      "\n",
      " [[-1.61412691]\n",
      "  [-0.12424404]]\n",
      "\n",
      " [[ 0.98360623]\n",
      "  [-1.62795332]]\n",
      "\n",
      " [[-0.1095998 ]\n",
      "  [ 0.64188282]]\n",
      "\n",
      " [[ 0.15098878]\n",
      "  [ 0.21925522]]\n",
      "\n",
      " [[-1.41873203]\n",
      "  [-0.70145503]]]\n"
     ]
    }
   ],
   "source": [
    "print(a)"
   ]
  },
  {
   "cell_type": "code",
   "execution_count": 18,
   "id": "3d2d065c-79a8-49e3-aa90-12769b9c7e76",
   "metadata": {},
   "outputs": [
    {
     "name": "stdout",
     "output_type": "stream",
     "text": [
      "i\n",
      "Arceo\n",
      "Cinti\n"
     ]
    }
   ],
   "source": [
    "nombre = \"Cintia Arceo\"\n",
    "print(nombre[4])\n",
    "print(nombre[-5:])\n",
    "print(nombre[:5])"
   ]
  },
  {
   "cell_type": "code",
   "execution_count": 19,
   "id": "187030c7-4508-41f3-9dd1-b31743ea3e8f",
   "metadata": {},
   "outputs": [],
   "source": [
    "data = [['A', 'B', 'C'],\n",
    "        ['D', 'E', 'F'],\n",
    "        ['G', 'H', 'I']\n",
    "       ]"
   ]
  },
  {
   "cell_type": "code",
   "execution_count": 20,
   "id": "c786c211-332f-4783-a919-277037450382",
   "metadata": {},
   "outputs": [
    {
     "name": "stdout",
     "output_type": "stream",
     "text": [
      "[['A', 'B', 'C'], ['D', 'E', 'F'], ['G', 'H', 'I']]\n"
     ]
    }
   ],
   "source": [
    "print(data)"
   ]
  },
  {
   "cell_type": "code",
   "execution_count": 21,
   "id": "505b8d88-f04f-4ae3-9947-5674e07a6f39",
   "metadata": {},
   "outputs": [],
   "source": [
    "data = np.matrix(data)"
   ]
  },
  {
   "cell_type": "code",
   "execution_count": 22,
   "id": "5949c116-c398-47df-aee9-d6da9ce2f9a3",
   "metadata": {},
   "outputs": [
    {
     "data": {
      "text/plain": [
       "matrix([['A', 'B', 'C'],\n",
       "        ['D', 'E', 'F'],\n",
       "        ['G', 'H', 'I']], dtype='<U1')"
      ]
     },
     "execution_count": 22,
     "metadata": {},
     "output_type": "execute_result"
    }
   ],
   "source": [
    "data"
   ]
  },
  {
   "cell_type": "code",
   "execution_count": 26,
   "id": "6cf09615-ae3a-4f9b-b76c-9b81316a0241",
   "metadata": {},
   "outputs": [
    {
     "name": "stdout",
     "output_type": "stream",
     "text": [
      "[['A' 'B' 'C']\n",
      " ['D' 'E' 'F']\n",
      " ['G' 'H' 'I']]\n"
     ]
    }
   ],
   "source": [
    "print(data[:,:])"
   ]
  },
  {
   "cell_type": "code",
   "execution_count": 27,
   "id": "5802a0d6-d3b2-4e96-af4a-ad925c001f8e",
   "metadata": {},
   "outputs": [
    {
     "name": "stdout",
     "output_type": "stream",
     "text": [
      "F\n"
     ]
    }
   ],
   "source": [
    "print(data[1,2])"
   ]
  },
  {
   "cell_type": "code",
   "execution_count": 28,
   "id": "b3edc317-fd30-4ec5-9f4a-cc49cd13dc36",
   "metadata": {},
   "outputs": [
    {
     "data": {
      "text/plain": [
       "(3, 3)"
      ]
     },
     "execution_count": 28,
     "metadata": {},
     "output_type": "execute_result"
    }
   ],
   "source": [
    "np.shape(data)"
   ]
  },
  {
   "cell_type": "code",
   "execution_count": 30,
   "id": "6454bdad-7b3e-4021-99ce-a00e4fbab2e1",
   "metadata": {},
   "outputs": [],
   "source": [
    "data_n = [[1, 2, 3],\n",
    "          [4, 5, 6],\n",
    "          [7, 8, 9]\n",
    "         ]\n",
    "data_n = np.matrix(data_n)"
   ]
  },
  {
   "cell_type": "code",
   "execution_count": 32,
   "id": "57e15276-8946-4551-8426-f2615b1b69b2",
   "metadata": {},
   "outputs": [
    {
     "name": "stdout",
     "output_type": "stream",
     "text": [
      "[[1 2 3]\n",
      " [4 5 6]\n",
      " [7 8 9]]\n"
     ]
    }
   ],
   "source": [
    "print(data_n[:,:])"
   ]
  },
  {
   "cell_type": "code",
   "execution_count": 33,
   "id": "e58bbcb6-053f-4556-a32f-acf1652c18aa",
   "metadata": {},
   "outputs": [
    {
     "data": {
      "text/plain": [
       "matrix([[7, 8, 9]])"
      ]
     },
     "execution_count": 33,
     "metadata": {},
     "output_type": "execute_result"
    }
   ],
   "source": [
    "np.max(data_n, axis=0)"
   ]
  },
  {
   "cell_type": "code",
   "execution_count": 34,
   "id": "c540e9de-acba-44fd-a471-719a6f0b0877",
   "metadata": {},
   "outputs": [
    {
     "data": {
      "text/plain": [
       "matrix([[1, 2, 3]])"
      ]
     },
     "execution_count": 34,
     "metadata": {},
     "output_type": "execute_result"
    }
   ],
   "source": [
    "np.min(data_n, axis=0)"
   ]
  },
  {
   "cell_type": "code",
   "execution_count": 35,
   "id": "379ad0fc-500a-41a0-af12-0dbe8677a16f",
   "metadata": {},
   "outputs": [
    {
     "data": {
      "text/plain": [
       "matrix([[3],\n",
       "        [6],\n",
       "        [9]])"
      ]
     },
     "execution_count": 35,
     "metadata": {},
     "output_type": "execute_result"
    }
   ],
   "source": [
    "np.max(data_n, axis=1)"
   ]
  },
  {
   "cell_type": "code",
   "execution_count": 36,
   "id": "f4ba8c0d-4af2-4b72-921e-77326da7c787",
   "metadata": {},
   "outputs": [
    {
     "data": {
      "text/plain": [
       "matrix([[1],\n",
       "        [4],\n",
       "        [7]])"
      ]
     },
     "execution_count": 36,
     "metadata": {},
     "output_type": "execute_result"
    }
   ],
   "source": [
    "np.min(data_n, axis=1)"
   ]
  },
  {
   "cell_type": "code",
   "execution_count": 37,
   "id": "2bbe5b08-4429-4129-a734-e69000da61fc",
   "metadata": {},
   "outputs": [
    {
     "data": {
      "text/plain": [
       "np.int64(1)"
      ]
     },
     "execution_count": 37,
     "metadata": {},
     "output_type": "execute_result"
    }
   ],
   "source": [
    "np.min(data_n)"
   ]
  },
  {
   "cell_type": "code",
   "execution_count": 38,
   "id": "175e092f-3a4f-421d-b0ed-2d1e80b3b60f",
   "metadata": {},
   "outputs": [
    {
     "data": {
      "text/plain": [
       "np.int64(9)"
      ]
     },
     "execution_count": 38,
     "metadata": {},
     "output_type": "execute_result"
    }
   ],
   "source": [
    "np.max(data_n)"
   ]
  },
  {
   "cell_type": "code",
   "execution_count": 39,
   "id": "5d2f5927-3668-42e3-ae5f-a8da16fa24bd",
   "metadata": {},
   "outputs": [
    {
     "data": {
      "text/plain": [
       "np.float64(5.0)"
      ]
     },
     "execution_count": 39,
     "metadata": {},
     "output_type": "execute_result"
    }
   ],
   "source": [
    "np.mean(data_n)"
   ]
  },
  {
   "cell_type": "code",
   "execution_count": 42,
   "id": "bbc48e91-532e-46ab-9785-3e4206652d07",
   "metadata": {},
   "outputs": [
    {
     "name": "stdout",
     "output_type": "stream",
     "text": [
      "1 no es mayor que 5\n",
      "hecho\n"
     ]
    }
   ],
   "source": [
    "num = np.min(data_n)\n",
    "if num >= 5:\n",
    "    print(str(num), 'es mayor que 5')\n",
    "else:\n",
    "    print(str(num), 'no es mayor que 5')          \n",
    "print('hecho')"
   ]
  },
  {
   "cell_type": "code",
   "execution_count": 45,
   "id": "3eb8917e-e9e1-4547-8f7e-a7f4133e9257",
   "metadata": {},
   "outputs": [
    {
     "name": "stdout",
     "output_type": "stream",
     "text": [
      "9 es mayor que 5\n",
      "hecho\n"
     ]
    }
   ],
   "source": [
    "num = np.max(data_n)\n",
    "if num >= 5:\n",
    "    print(str(num), 'es mayor que 5')\n",
    "elif num == 5:\n",
    "    print('No se cumple')\n",
    "else:\n",
    "    print(str(num), 'no es mayor que 5')          \n",
    "print('hecho')\n",
    "\n"
   ]
  },
  {
   "cell_type": "code",
   "execution_count": 53,
   "id": "747a5f69-903d-45bf-9bc2-6be32f3251bc",
   "metadata": {},
   "outputs": [
    {
     "data": {
      "image/png": "[encoded data removed]",
      "text/plain": [
       "<Figure size 640x480 with 1 Axes>"
      ]
     },
     "metadata": {},
     "output_type": "display_data"
    }
   ],
   "source": [
    "fig, ax = plt.subplots()\n",
    "ax = plt.plot(a[0, :], color = 'tomato', linewidth='1.5', linestyle='dashed')\n",
    "plt.xlabel('axis x')\n",
    "plt.ylabel('axis y')\n",
    "plt.title('Figura de prueba')\n",
    "plt.show()"
   ]
  },
  {
   "cell_type": "code",
   "execution_count": null,
   "id": "f6e38d13-0f2a-44fe-8b93-cfd29c470582",
   "metadata": {},
   "outputs": [],
   "source": []
  }
 ],
 "metadata": {
  "kernelspec": {
   "display_name": "Python [conda env:jupyterlab] *",
   "language": "python",
   "name": "conda-env-jupyterlab-py"
  },
  "language_info": {
   "codemirror_mode": {
    "name": "ipython",
    "version": 3
   },
   "file_extension": ".py",
   "mimetype": "text/x-python",
   "name": "python",
   "nbconvert_exporter": "python",
   "pygments_lexer": "ipython3",
   "version": "3.12.10"
  }
 },
 "nbformat": 4,
 "nbformat_minor": 5
}
