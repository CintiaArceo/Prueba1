{
 "cells": [
  {
   "cell_type": "markdown",
   "id": "7f3cbe3c-5031-4c8d-ac3f-cf124dfe1adb",
   "metadata": {},
   "source": [
    "Título\n",
    "\n",
    "* Punto1\n",
    "* Punto 2"
   ]
  },
  {
   "cell_type": "code",
   "execution_count": 2,
   "id": "a5226d6c-a4f5-4c7c-857c-5a888d6ccd8a",
   "metadata": {},
   "outputs": [
    {
     "data": {
      "text/plain": [
       "3"
      ]
     },
     "execution_count": 2,
     "metadata": {},
     "output_type": "execute_result"
    }
   ],
   "source": [
    "1+2"
   ]
  },
  {
   "cell_type": "markdown",
   "id": "6c4f579d-90f1-40c8-ae2f-7ede9165899c",
   "metadata": {},
   "source": [
    "# Título\n",
    "\n",
    "## Subtítulo\n",
    "\n",
    "Probando"
   ]
  },
  {
   "cell_type": "code",
   "execution_count": null,
   "id": "50f5c1e9-c9ab-450a-a3a9-3361dda90f4b",
   "metadata": {},
   "outputs": [],
   "source": []
  }
 ],
 "metadata": {
  "kernelspec": {
   "display_name": "Python [conda env:jupyterlab] *",
   "language": "python",
   "name": "conda-env-jupyterlab-py"
  },
  "language_info": {
   "codemirror_mode": {
    "name": "ipython",
    "version": 3
   },
   "file_extension": ".py",
   "mimetype": "text/x-python",
   "name": "python",
   "nbconvert_exporter": "python",
   "pygments_lexer": "ipython3",
   "version": "3.12.10"
  }
 },
 "nbformat": 4,
 "nbformat_minor": 5
}
